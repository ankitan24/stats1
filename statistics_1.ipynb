{
  "nbformat": 4,
  "nbformat_minor": 0,
  "metadata": {
    "colab": {
      "provenance": []
    },
    "kernelspec": {
      "name": "python3",
      "display_name": "Python 3"
    },
    "language_info": {
      "name": "python"
    }
  },
  "cells": [
    {
      "cell_type": "markdown",
      "source": [
        "Q1. Explain the different types of data (qualitative and quantitative) and provide examples of each. Discuss\n",
        "nominal, ordinal, interval, and ratio scales."
      ],
      "metadata": {
        "id": "ZpiRkqRs5-es"
      }
    },
    {
      "cell_type": "markdown",
      "source": [
        "Types of Data: Qualitative and Quantitative\n",
        "Data can generally be classified into two broad categories: qualitative and quantitative.\n",
        "\n",
        "1. Qualitative Data (Categorical Data)\n",
        "\n",
        "Qualitative data refers to information that describes characteristics or qualities and cannot be measured numerically. It is typically used to categorize or label items.\n",
        "\n",
        "Examples:\n",
        "\n",
        "Eye color (e.g., blue, brown, green)\n",
        "Gender (e.g., male, female, non-binary)\n",
        "Nationality (e.g., American, French, Indian)\n",
        "Type of fruit (e.g., apple, banana, cherry)\n",
        "\n",
        "Qualitative data can be further divided into two subtypes based on how the categories are organized:\n",
        "\n",
        "Nominal Data:\n",
        "\n",
        "Definition: Data that represent categories with no inherent order or ranking.\n",
        "\n",
        "Examples:\n",
        "Gender (Male, Female, Non-binary)\n",
        "Marital Status (Single, Married, Divorced)\n",
        "Hair Color (Blonde, Brown, Black, Red)\n",
        "\n",
        "Ordinal Data:\n",
        "\n",
        "\n",
        "Definition: Data that represent categories with a meaningful order or ranking, but the differences between ranks are not necessarily consistent or measurable.\n",
        "\n",
        "Examples:\n",
        "Educational Level (High school, Undergraduate, Graduate)\n",
        "Satisfaction Level (Very Unsatisfied, Unsatisfied, Neutral, Satisfied, Very Satisfied)\n",
        "Military Rank (Private, Sergeant, Lieutenant)\n",
        "\n",
        "2. Quantitative Data (Numerical Data)\n",
        "Quantitative data is numerical and can be measured and counted. It represents quantities or amounts and can be subjected to arithmetic operations like addition, subtraction, and averaging.\n",
        "\n",
        "\n",
        "Examples:\n",
        "\n",
        "Height (e.g., 160 cm, 180 cm)\n",
        "Weight (e.g., 65 kg, 80 kg)\n",
        "Age (e.g., 25 years, 40 years)\n",
        "Income (e.g., $50,000, $100,000)\n",
        "\n",
        "Quantitative data is further categorized into interval and ratio scales, based on the nature of the numbers and their properties.\n",
        "\n",
        "\n",
        "Scales of Measurement\n",
        "\n",
        "There are four primary levels of measurement for both qualitative and quantitative data: nominal, ordinal, interval, and ratio.\n",
        "\n",
        "1. Nominal Scale\n",
        "\n",
        "Definition: The lowest level of measurement. Nominal data are simply categories without any order or ranking.\n",
        "\n",
        "Characteristics:\n",
        "Categories are mutually exclusive (an item can only belong to one category).\n",
        "No meaningful order between categories.\n",
        "Cannot be used for mathematical operations (e.g., addition, subtraction).\n",
        "\n",
        "Examples:\n",
        "Types of fruits (apple, banana, orange)\n",
        "Colors of cars (red, blue, green)\n",
        "Gender (male, female)\n",
        "\n",
        "2. Ordinal Scale\n",
        "\n",
        "Definition: Data that can be ordered or ranked, but the differences between the ranks are not meaningful or consistent.\n",
        "\n",
        "Characteristics:\n",
        "The order matters (e.g., 1st, 2nd, 3rd), but the difference between ranks is not necessarily equal or measurable.\n",
        "Can be used to show relative position or preference.\n",
        "\n",
        "Examples:\n",
        "Movie ratings (Poor, Fair, Good, Excellent)\n",
        "Educational levels (High School, Bachelor’s, Master’s, Doctorate)\n",
        "Survey responses (Strongly Disagree, Disagree, Neutral, Agree, Strongly Agree)\n",
        "\n",
        "3. Interval Scale\n",
        "\n",
        "Definition: Data that can be ordered, and the differences between values are meaningful. However, there is no true zero point (i.e., zero does not represent the absence of the quantity).\n",
        "\n",
        "Characteristics:\n",
        "Differences between values are consistent and measurable.\n",
        "Arithmetic operations like addition and subtraction are meaningful.\n",
        "Lacks an absolute zero (zero is not a true \"none\").\n",
        "\n",
        "Examples:\n",
        "Temperature in Celsius or Fahrenheit (e.g., 10°C, 20°C, 30°C)\n",
        "IQ scores (e.g., 100, 110, 120)\n",
        "Dates on a calendar (e.g., 2000, 2020, 2024) — the \"zero\" point is arbitrary\n",
        "\n",
        "4. Ratio Scale\n",
        "\n",
        "Definition: The highest level of measurement. Ratio data have all the properties of interval data, but with a true zero point, meaning zero represents the complete absence of the quantity.\n",
        "\n",
        "Characteristics:\n",
        "Differences between values are meaningful.\n",
        "Has a true zero point, so you can make meaningful ratios (e.g., one value is twice as much as another).\n",
        "All arithmetic operations (addition, subtraction, multiplication, division) are meaningful.\n",
        "\n",
        "Examples:\n",
        "Height (e.g., 0 cm, 180 cm)\n",
        "Weight (e.g., 0 kg, 70 kg, 140 kg)\n",
        "Age (e.g., 0 years, 25 years)\n",
        "Income (e.g., $0, $50,000, $100,000)\n"
      ],
      "metadata": {
        "id": "CrfiWjIk6nip"
      }
    },
    {
      "cell_type": "markdown",
      "source": [
        "Q2. What are the measures of central tendency, and when should you use each? Discuss the mean, median,\n",
        "and mode with examples and situations where each is appropriate."
      ],
      "metadata": {
        "id": "KBRgFk0a59eS"
      }
    },
    {
      "cell_type": "markdown",
      "source": [
        "Mean (Average)\n",
        "\n",
        "Definition: The mean is the sum of all values in a dataset divided by the number of values. It is the most common measure of central tendency and represents the \"average\" of the data.\n",
        "\n",
        "Mean=∑(all values in data set)/total values in dataset\n",
        "\n",
        "Example:\n",
        "\n",
        "Consider the following dataset of test scores:\n",
        "70, 80, 90, 100, 110\n",
        "The mean score would be calculated as:\n",
        "\n",
        "Mean=70+80+90+100+110/5 = 90\n",
        "So, the average score is 90.\n",
        "\n",
        "\n",
        "It is useful for datasets with interval or ratio scales (e.g., height, weight, age, income).\n",
        "It is most reliable when all data points are evenly distributed and not skewed by extreme values.\n",
        "\n",
        "\n",
        "Median (Middle Value):-\n",
        "\n",
        "Definition: The median is the middle value of a dataset when the values are ordered from least to greatest (or greatest to least). If there is an odd number of values, the median is the middle one; if there is an even number, it is the average of the two middle values.\n",
        "\n",
        "For the dataset:\n",
        "70, 80, 90, 100, 110,\n",
        "The median is 90 (the middle value).\n",
        "If the dataset were:\n",
        "70, 80, 90, 100,\n",
        "The median would be the average of 80 and 90:\n",
        "\n",
        "Median=80+90/2=85\n",
        "\n",
        "It is appropriate for ordinal, interval, or ratio data.\n",
        "It is particularly useful when you want the \"middle\" of a dataset without being influenced by extreme values. For example, in income data, where a few very high salaries could skew the mean.\n",
        "\n",
        "Mode (Most Frequent Value)\n",
        "Definition: The mode is the value that appears most frequently in a dataset. A dataset may have:\n",
        "\n",
        "One mode (unimodal),\n",
        "Two modes (bimodal),\n",
        "More than two modes (multimodal), or\n",
        "No mode if all values appear with the same frequency.\n",
        "Example:\n",
        "For the dataset:\n",
        "2, 3, 3, 4, 5, 5, 6\n",
        "The mode is 3 and 5, since both appear twice, while the other numbers only appear once.\n",
        "\n",
        "For the dataset:\n",
        "7, 8, 8, 8, 9\n",
        "The mode is 8, as it appears most frequently.\n",
        "\n",
        "use:-\n",
        "\n",
        "The mode is most useful when identifying the most common or frequent category or value, especially for nominal or ordinal data.\n",
        "\n",
        "It is also useful when the dataset includes categorical or non-numerical data, such as favorite colors or types of car brands.\n",
        "\n",
        "\n"
      ],
      "metadata": {
        "id": "BWg2oVK07SSF"
      }
    },
    {
      "cell_type": "markdown",
      "source": [
        "Q3. Explain the concept of dispersion. How do variance and standard deviation measure the spread of data?"
      ],
      "metadata": {
        "id": "SzYCIF-e7SWQ"
      }
    },
    {
      "cell_type": "markdown",
      "source": [
        "Dispersion refers to the extent to which data points in a dataset are spread out or dispersed around the central value (usually the mean or median). It is a key concept in statistics because it helps to describe the variability, consistency, or unpredictability of data. While measures of central tendency (mean, median, mode) tell you where most of the data tends to lie, measures of dispersion help you understand how much the data varies or how \"spread out\" the values are from the central point.\n",
        "\n",
        "\n",
        "Variance measures the average squared deviation of each data point from the mean of the dataset. It tells you, on average, how much the data points vary from the mean while Standard deviation is simply the square root of the variance. It brings the measurement back to the original unit of the data, making it more interpretable than variance. If the variance tells us about the spread of the data in squared units, the standard deviation brings it back to the scale of the original data, allowing for easier interpretation.\n",
        "\n",
        "\n",
        "\n"
      ],
      "metadata": {
        "id": "yU_VULGv7SNH"
      }
    },
    {
      "cell_type": "markdown",
      "source": [
        "Q4. What is a box plot, and what can it tell you about the distribution of data?"
      ],
      "metadata": {
        "id": "z3-W6R9y7R8E"
      }
    },
    {
      "cell_type": "markdown",
      "source": [
        "A box plot (also called a box-and-whisker plot) is a graphical representation of the distribution of a dataset. It provides a visual summary of the minimum, maximum, median, and the interquartile range (IQR), which helps to identify the spread and skewness of the data, as well as potential outliers.\n",
        "\n",
        "\n",
        "A box plot divides the data into quartiles, which are used to describe the spread and center of the data. The plot is typically made up of a rectangular box, with \"whiskers\" extending from both ends of the box. The main features of a box plot include:\n",
        "\n",
        "\n",
        "\n",
        "Outliers are typically shown as individual points outside the whiskers. These are values that are significantly higher or lower than the rest of the data, and they may indicate errors, special cases, or important variations in the dataset.\n",
        "\n",
        "\n",
        "Example of a Box Plot\n",
        "Consider the following dataset of exam scores for a class:\n",
        "45, 50, 55, 60, 60, 65, 70, 75, 80, 85\n",
        "\n",
        "Minimum (45): The lowest score in the dataset.\n",
        "\n",
        "Q1 (50): The 25th percentile (the median of the lower half of the data).\n",
        "\n",
        "Median (65): The middle value of the dataset (also the 50th percentile).\n",
        "\n",
        "Q3 (80): The 75th percentile (the median of the upper half of the data).\n",
        "\n",
        "Maximum (85): The highest score in the dataset.\n"
      ],
      "metadata": {
        "id": "gahAKB8A7Rwp"
      }
    },
    {
      "cell_type": "markdown",
      "source": [
        "Q5. Discuss the role of random sampling in making inferences about populations."
      ],
      "metadata": {
        "id": "CF1yn8fo7Rtb"
      }
    },
    {
      "cell_type": "markdown",
      "source": [
        "1. Representativeness of the Sample\n",
        "\n",
        "A representative sample is one that accurately reflects the characteristics of the population from which it is drawn. If a sample is biased or unrepresentative, the inferences made from it may not be valid.\n",
        "\n",
        "2. Reducing Bias and Ensuring Fairness\n",
        "\n",
        "Without random sampling, there is a risk of sampling bias. This occurs when certain groups or characteristics are overrepresented or underrepresented in the sample, leading to skewed results. Random sampling helps to mitigate bias by giving all individuals an equal chance of selection, ensuring that the sample mirrors the population in terms of key characteristics like age, gender, socioeconomic status, etc.\n",
        "\n",
        "3. Enabling Statistical Inference\n",
        "\n",
        "The main purpose of random sampling is to enable statistical inference — the process of making estimates or predictions about a population based on sample data.\n",
        "\n",
        "4. The Law of Large Numbers and Central Limit Theorem\n",
        "\n",
        "Two key statistical principles — the Law of Large Numbers (LLN) and the Central Limit Theorem (CLT) — help explain why random sampling leads to reliable inferences about populations.\n",
        "\n",
        "5. Generalizing to the Population\n",
        "\n",
        "Random sampling allows us to generalize from the sample to the entire population. Inference is all about using the sample data to make statements about the population from which the sample was drawn."
      ],
      "metadata": {
        "id": "2-1HyRO37RqJ"
      }
    },
    {
      "cell_type": "markdown",
      "source": [
        "Q6. Explain the concept of skewness and its types. How does skewness affect the interpretation of data?"
      ],
      "metadata": {
        "id": "zhiY3X387Rld"
      }
    },
    {
      "cell_type": "markdown",
      "source": [
        "Skewness is a statistical measure that describes the asymmetry or \"tilt\" of a dataset's distribution. It tells you whether the data is concentrated on one side (either the left or right) of the mean, or if it is symmetrically distributed around the mean.\n",
        "\n",
        "There are three main types of skewness:\n",
        "\n",
        "1. Positive Skew (Right Skew)\n",
        "\n",
        "A positively skewed distribution has a longer or fatter tail on the right side, meaning that the data points are spread out more on the right side of the mean.\n",
        "\n",
        "2. Negative Skew (Left Skew)\n",
        "\n",
        "A negatively skewed distribution has a longer or fatter tail on the left side, meaning that the data points are spread out more on the left side of the mean.\n",
        "\n",
        "3. Zero Skew (Symmetric Distribution)\n",
        "\n",
        "A distribution with zero skewness is symmetrical, meaning that the data is evenly distributed around the mean. In a perfectly symmetric distribution, the mean, median, and mode are all equal.\n",
        "\n",
        "Skewness Affects the Interpretation of Data\n",
        "Impact on Measures of Central Tendency (Mean, Median, Mode)\n",
        "\n",
        "Positively Skewed Data:\n",
        "\n",
        "Mean > Median > Mode\n",
        "\n",
        "Negatively Skewed Data:\n",
        "\n",
        "Mean < Median < Mode\n",
        "\n",
        "Symmetric (Zero Skew):\n",
        "\n",
        "Mean = Median = Mode"
      ],
      "metadata": {
        "id": "9-rSQfct7RfC"
      }
    },
    {
      "cell_type": "markdown",
      "source": [
        "Q7. What is the interquartile range (IQR), and how is it used to detect outliers?"
      ],
      "metadata": {
        "id": "fC5IvKVI7RYU"
      }
    },
    {
      "cell_type": "markdown",
      "source": [
        "The Interquartile Range (IQR) is a measure of statistical dispersion, or the spread of the middle 50% of a dataset. It is calculated by subtracting the first quartile (Q1) from the third quartile (Q3):\n",
        "\n",
        "IQR=Q3−Q1\n",
        "\n",
        "Where:\n",
        "\n",
        "Q1 (the first quartile) is the value that separates the lowest 25% of the data from the rest (the 25th percentile).\n",
        "\n",
        "Q3 (the third quartile) is the value that separates the lowest 75% of the data from the highest 25% (the 75th percentile).\n",
        "\n",
        "Using the IQR to Detect Outliers\n",
        "\n",
        "The IQR is a useful tool for identifying outliers in a dataset. Outliers are values that are significantly different from most of the data, either much higher or much lower. A common method for detecting outliers is to use the 1.5 rule based on the IQR.\n",
        "\n",
        "Outlier Detection Using the IQR\n",
        "\n",
        "Lower Bound (Lower Outlier Limit):\n",
        "Lower Bound\n",
        "=\n",
        "𝑄\n",
        "1\n",
        "−\n",
        "1.5\n",
        "×\n",
        "IQR\n",
        "Lower Bound=Q1−1.5×IQR\n",
        "\n",
        "\n",
        "Upper Bound (Upper Outlier Limit):\n",
        "Upper Bound\n",
        "=\n",
        "𝑄\n",
        "3\n",
        "+\n",
        "1.5\n",
        "×\n",
        "IQR\n",
        "Upper Bound=Q3+1.5×IQR\n"
      ],
      "metadata": {
        "id": "PLy6YPH07RVR"
      }
    },
    {
      "cell_type": "markdown",
      "source": [
        "Q8. Discuss the conditions under which the binomial distribution is used"
      ],
      "metadata": {
        "id": "O1bZE_cF7RRR"
      }
    },
    {
      "cell_type": "markdown",
      "source": [
        "The binomial distribution is widely used in various fields, including statistics, probability theory, and data science, to model situations where you are interested in counting the number of successes or specific events in a given set of trials.\n",
        "\n",
        "1. Fixed Number of Trials (n)\n",
        "\n",
        "The number of trials must be fixed in advance. This means that the experiment or process is repeated a certain number of times, say n times.\n",
        "\n",
        "Example: You flip a coin 10 times (n = 10).\n",
        "\n",
        "2. Two Possible Outcomes per Trial\n",
        "\n",
        "Each trial must have exactly two possible outcomes, which are typically labeled as a success or a failure.\n",
        "\n",
        "Example: In a coin toss, the two possible outcomes are heads (success) and tails (failure).\n",
        "\n",
        "3. Independent Trials\n",
        "\n",
        "The trials must be independent, meaning the outcome of any individual trial does not affect the outcomes of the other trials.\n",
        "\n",
        "Example: When flipping a fair coin, the outcome of the first flip (heads or tails) does not influence the outcome of the second flip.\n",
        "\n",
        "4. Constant Probability of Success (p)\n",
        "\n",
        "The probability of success (p) must be the same for each trial. In other words, the probability of success does not change between trials.\n",
        "\n",
        "Example: In a coin toss, the probability of heads (success) is always 0.5 for each toss.\n",
        "\n",
        "5. Discrete Outcome Variable\n",
        "\n",
        "The outcome variable in a binomial experiment is discrete, meaning it represents counts (whole numbers) of successes or failures. You are interested in counting how many successes (or failures) occur in a fixed number of trials.\n",
        "\n"
      ],
      "metadata": {
        "id": "rlCZ6efw7RCk"
      }
    },
    {
      "cell_type": "markdown",
      "source": [
        "Q9. Explain the properties of the normal distribution and the empirical rule (68-95-99.7 rule)"
      ],
      "metadata": {
        "id": "gnIdJq7M7Q_Z"
      }
    },
    {
      "cell_type": "markdown",
      "source": [
        "ANSWER: The 68-95-99.7 Rule (Empirical Rule)\n",
        "\n",
        "The normal distribution is particularly well-known for the empirical rule, also called the 68-95-99.7 rule. This rule describes how data is spread around the mean in terms of standard deviations.\n",
        "\n",
        "Empirical Rule (68-95-99.7 Rule)\n",
        "\n",
        "The empirical rule states that for a normal distribution:\n",
        "\n",
        "68% of the data falls within 1 standard deviation (σ) of the mean (μ):\n",
        "\n",
        "This means that if you take a dataset that follows a normal distribution, approximately 68% of the data points will be within one standard deviation above or below the mean.\n",
        "\n",
        "95% of the data falls within 2 standard deviations (σ) of the mean (μ):\n",
        "\n",
        "Expanding the range, about 95% of the data points will lie within two standard deviations of the mean (from μ - 2σ to μ + 2σ).\n",
        "\n",
        "99.7% of the data falls within 3 standard deviations (σ) of the mean (μ):\n",
        "\n",
        "\n",
        "Finally, nearly 99.7% of the data points will lie within three standard deviations of the mean (from μ - 3σ to μ + 3σ).\n"
      ],
      "metadata": {
        "id": "PcXLr6tpC0Wu"
      }
    },
    {
      "cell_type": "markdown",
      "source": [
        "Q 10. Provide a real-life example of a Poisson process and calculate the probability for a specific event."
      ],
      "metadata": {
        "id": "-b-L9o4u7Q3l"
      }
    },
    {
      "cell_type": "markdown",
      "source": [
        "A Poisson process is a type of stochastic process where events occur randomly and independently over time, but at a constant average rate. A common real-life example of a Poisson process is the arrival of customers at a service station, like a bank, or the number of phone calls received by a call center during a given time period.\n",
        "\n",
        "Real-Life Example: Phone Calls at a Call Center\n",
        "\n",
        "Let's say a call center receives phone calls at an average rate of 3 calls per minute. We can model this as a Poisson process, where the number of calls received in any minute follows a Poisson distribution.\n",
        "\n",
        "Let's calculate the probability of receiving exactly 5 calls in a minute.\n",
        "\n",
        "P(k)=(λ^ke^−λ )/K!\n",
        "\n",
        "P(5)= (3^5 e^−3)/5!\n",
        "\n",
        "3^5=243\n",
        "\n",
        "e^-3~~0.498\n",
        "\n",
        "p(5)=0.1008\n",
        "\n",
        "The probability of receiving exactly 5 calls in one minute is approximately 0.1008 or 10.08%.\n",
        "​\n"
      ],
      "metadata": {
        "id": "Kclb5iYS7QtF"
      }
    },
    {
      "cell_type": "markdown",
      "source": [
        "Q11. Explain what a random variable is and differentiate between discrete and continuous random variables."
      ],
      "metadata": {
        "id": "v7OzqbH2CVLk"
      }
    },
    {
      "cell_type": "markdown",
      "source": [
        "A random variable is a numerical outcome of a random process or experiment. It represents a function that maps outcomes of a random phenomenon (such as the roll of a die, the temperature on a given day, or the number of phone calls to a call center) to real numbers.\n",
        "\n",
        "the difference between discrete and continuous random variables is:-\n",
        "\n",
        "Discrete Random Variables:-\n",
        "\n",
        "A discrete random variable takes on a countable number of distinct values. These values are typically integers or whole numbers, and they represent outcomes that can be listed or counted. For example:\n",
        "\n",
        "The number of heads when flipping a coin 10 times.\n",
        "\n",
        "The number of customers arriving at a store in a given hour.\n",
        "\n",
        "The number of cars passing through a toll booth in a day.\n",
        "\n",
        " Continuous Random Variables:-\n",
        "\n",
        "A continuous random variable can take on an infinite number of values within a given range. Unlike discrete variables, the values of a continuous random variable are not countable, and they typically represent measurements that can have an infinite number of possible outcomes. For example:\n",
        "\n",
        "The height of a person (could be 170.1 cm, 170.01 cm, 170.001 cm, and so on).\n",
        "\n",
        "The time it takes to run a race (could be any value within a range, like between 10 and 20 seconds).\n",
        "\n",
        "The temperature in a city on a given day."
      ],
      "metadata": {
        "id": "cBSmhx-TCU_F"
      }
    },
    {
      "cell_type": "markdown",
      "source": [
        "Q12. Provide an example dataset, calculate both covariance and correlation, and interpret the results."
      ],
      "metadata": {
        "id": "FEBkUWgHCUxu"
      }
    },
    {
      "cell_type": "markdown",
      "source": [
        "# Covariance and Correlation Example\n",
        "\n",
        "## Example Dataset\n",
        "\n",
        "Consider the following data, which represents the number of hours studied and the corresponding scores on a test for a group of 5 students:\n",
        "\n",
        "| Student | Hours Studied (X) | Test Score (Y) |\n",
        "|---------|-------------------|----------------|\n",
        "| 1       | 2                 | 50             |\n",
        "| 2       | 3                 | 60             |\n",
        "| 3       | 4                 | 70             |\n",
        "| 4       | 5                 | 80             |\n",
        "| 5       | 6                 | 90             |\n",
        "\n",
        "We want to calculate the **covariance** and **correlation** between **Hours Studied** and **Test Score**.\n",
        "\n",
        "---\n",
        "\n",
        "## Step 1: Calculate Covariance\n",
        "\n",
        "### Covariance Formula\n",
        "\n",
        "The covariance between two variables \\(X\\) and \\(Y\\) is calculated using the formula:\n",
        "\n",
        "\\[\n",
        "\\text{Cov}(X, Y) = \\frac{1}{n} \\sum_{i=1}^{n} (X_i - \\bar{X})(Y_i - \\bar{Y})\n",
        "\\]\n",
        "\n",
        "Where:\n",
        "- \\(X_i\\) and \\(Y_i\\) are the individual data points of \\(X\\) and \\(Y\\),\n",
        "- \\(\\bar{X}\\) and \\(\\bar{Y}\\) are the means of \\(X\\) and \\(Y\\),\n",
        "- \\(n\\) is the number of data points.\n",
        "\n",
        "### Step-by-step Calculation of Covariance:\n",
        "\n",
        "1. **Calculate the mean of \\(X\\) and \\(Y\\):**\n",
        "   \\[\n",
        "   \\bar{X} = \\frac{2 + 3 + 4 + 5 + 6}{5} = \\frac{20}{5} = 4\n",
        "   \\]\n",
        "   \\[\n",
        "   \\bar{Y} = \\frac{50 + 60 + 70 + 80 + 90}{5} = \\frac{350}{5} = 70\n",
        "   \\]\n",
        "\n",
        "2. **Calculate the individual deviations from the mean:**\n",
        "\n",
        "| Student | \\(X_i\\) | \\(Y_i\\) | \\(X_i - \\bar{X}\\) | \\(Y_i - \\bar{Y}\\) | \\((X_i - \\bar{X})(Y_i - \\bar{Y})\\) |\n",
        "|---------|--------|--------|-------------------|-------------------|-----------------------------------|\n",
        "| 1       | 2      | 50     | -2                | -20               | 40                                |\n",
        "| 2       | 3      | 60     | -1                | -10               | 10                                |\n",
        "| 3       | 4      | 70     | 0                 | 0                 | 0                                 |\n",
        "| 4       | 5      | 80     | 1                 | 10                | 10                                |\n",
        "| 5       | 6      | 90     | 2                 | 20                | 40                                |\n",
        "\n",
        "3. **Sum the products:**\n",
        "   \\[\n",
        "   \\sum (X_i - \\bar{X})(Y_i - \\bar{Y}) = 40 + 10 + 0 + 10 + 40 = 100\n",
        "   \\]\n",
        "\n",
        "4. **Divide by \\(n - 1\\) (for sample covariance):**\n",
        "   \\[\n",
        "   \\text{Cov}(X, Y) = \\frac{100}{5 - 1} = \\frac{100}{4} = 25\n",
        "   \\]\n",
        "\n",
        "Thus, the **covariance** between **Hours Studied** and **Test Score** is **25**.\n",
        "\n",
        "---\n",
        "\n",
        "## Step 2: Calculate Correlation\n",
        "\n",
        "### Correlation Formula\n",
        "\n",
        "The **correlation** between \\(X\\) and \\(Y\\) is given by the formula:\n",
        "\n",
        "\\[\n",
        "r = \\frac{\\text{Cov}(X, Y)}{ \\sigma_X \\sigma_Y }\n",
        "\\]\n",
        "\n",
        "Where:\n",
        "- \\(\\text{Cov}(X, Y)\\) is the covariance between \\(X\\) and \\(Y\\),\n",
        "- \\(\\sigma_X\\) is the standard deviation of \\(X\\),\n",
        "- \\(\\sigma_Y\\) is the standard deviation of \\(Y\\).\n",
        "\n",
        "### Step-by-step Calculation of Correlation:\n",
        "\n",
        "1. **Calculate the standard deviation of \\(X\\) (Hours Studied):**\n",
        "\n",
        "   The standard deviation \\(\\sigma_X\\) is the square root of the variance, and the variance is calculated as:\n",
        "\n",
        "   \\[\n",
        "   \\sigma_X^2 = \\frac{1}{n-1} \\sum_{i=1}^{n} (X_i - \\bar{X})^2\n",
        "   \\]\n",
        "\n",
        "   First, calculate the squared deviations from the mean for \\(X\\):\n",
        "\n",
        "| Student | \\(X_i\\) | \\(X_i - \\bar{X}\\) | \\((X_i - \\bar{X})^2\\) |\n",
        "|---------|--------|-------------------|----------------------|\n",
        "| 1       | 2      | -2                | 4                    |\n",
        "| 2       | 3      | -1                | 1                    |\n",
        "| 3       | 4      | 0                 | 0                    |\n",
        "| 4       | 5      | 1                 | 1                    |\n",
        "| 5       | 6      | 2                 | 4                    |\n",
        "\n",
        "   \\[\n",
        "   \\sum (X_i - \\bar{X})^2 = 4 + 1 + 0 + 1 + 4 = 10\n",
        "   \\]\n",
        "\n",
        "   Now, calculate the variance of \\(X\\):\n",
        "\n",
        "   \\[\n",
        "   \\sigma_X^2 = \\frac{10}{4} = 2.5\n",
        "   \\]\n",
        "\n",
        "   Then, the standard deviation of \\(X\\) is:\n",
        "\n",
        "   \\[\n",
        "   \\sigma_X = \\sqrt{2.5} \\approx 1.58\n",
        "   \\]\n",
        "\n",
        "2. **Calculate the standard deviation of \\(Y\\) (Test Score):**\n",
        "\n",
        "   Similarly, calculate the variance and standard deviation for \\(Y\\):\n",
        "\n",
        "| Student | \\(Y_i\\) | \\(Y_i - \\bar{Y}\\) | \\((Y_i - \\bar{Y})^2\\) |\n",
        "|---------|--------|-------------------|----------------------|\n",
        "| 1       | 50     | -20               | 400                  |\n",
        "| 2       | 60     | -10               | 100                  |\n",
        "| 3       | 70     | 0                 | 0                    |\n",
        "| 4       | 80     | 10                | 100                  |\n",
        "| 5       | 90     | 20                | 400                  |\n",
        "\n",
        "   \\[\n",
        "   \\sum (Y_i - \\bar{Y})^2 = 400 + 100 + 0 + 100 + 400 = 1000\n",
        "   \\]\n",
        "\n",
        "   Now, calculate the variance of \\(Y\\):\n",
        "\n",
        "   \\[\n",
        "   \\sigma_Y^2 = \\frac{1000}{4} = 250\n",
        "   \\]\n",
        "\n",
        "   Then, the standard deviation of \\(Y\\) is:\n",
        "\n",
        "   \\[\n",
        "   \\sigma_Y = \\sqrt{250} \\approx 15.81\n",
        "   \\]\n",
        "\n",
        "3. **Calculate the correlation:**\n",
        "\n",
        "   \\[\n",
        "   r = \\frac{25}{(1.58)(15.81)} = \\frac{25}{24.95} \\approx 1.00\n",
        "   \\]\n",
        "\n",
        "---\n",
        "\n",
        " Interpretation of the Results:\n",
        "\n",
        "1. **Covariance (25):**\n",
        "   - The positive covariance value indicates that as the number of hours studied increases, the test score also tends to increase. A positive covariance means that the two variables have a **direct relationship**: when one increases, the other tends to increase as well.\n",
        "   - However, covariance alone doesn't provide a standardized measure of the strength of the relationship; its scale depends on the units of \\(X\\) and \\(Y\\).\n",
        "\n",
        "2. **Correlation (1.00):**\n",
        "   - The correlation value of **1.00** indicates a **perfect positive linear relationship** between the number of hours studied and the test score. This means that the two variables move in exactly the same direction, and for every increase in the number of hours studied, there is a proportionate increase in the test score.\n",
        "   - A correlation of **1.00** suggests that the relationship between these two variables is very strong and perfectly linear.\n",
        "\n"
      ],
      "metadata": {
        "id": "LZsFnpO3CUtI"
      }
    },
    {
      "cell_type": "code",
      "source": [],
      "metadata": {
        "id": "bXsRmnd26V6C"
      },
      "execution_count": null,
      "outputs": []
    }
  ]
}